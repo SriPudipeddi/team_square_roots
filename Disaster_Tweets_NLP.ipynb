{
 "cells": [
  {
   "cell_type": "code",
   "execution_count": 19,
   "id": "be117399",
   "metadata": {},
   "outputs": [],
   "source": [
    "import pandas as pd\n",
    "import warnings\n",
    "warnings.filterwarnings(\"ignore\")"
   ]
  },
  {
   "cell_type": "code",
   "execution_count": 20,
   "id": "29399a86",
   "metadata": {},
   "outputs": [
    {
     "data": {
      "text/html": [
       "<div>\n",
       "<style scoped>\n",
       "    .dataframe tbody tr th:only-of-type {\n",
       "        vertical-align: middle;\n",
       "    }\n",
       "\n",
       "    .dataframe tbody tr th {\n",
       "        vertical-align: top;\n",
       "    }\n",
       "\n",
       "    .dataframe thead th {\n",
       "        text-align: right;\n",
       "    }\n",
       "</style>\n",
       "<table border=\"1\" class=\"dataframe\">\n",
       "  <thead>\n",
       "    <tr style=\"text-align: right;\">\n",
       "      <th></th>\n",
       "      <th>id</th>\n",
       "      <th>keyword</th>\n",
       "      <th>location</th>\n",
       "      <th>text</th>\n",
       "      <th>target</th>\n",
       "    </tr>\n",
       "  </thead>\n",
       "  <tbody>\n",
       "    <tr>\n",
       "      <th>0</th>\n",
       "      <td>1</td>\n",
       "      <td>NaN</td>\n",
       "      <td>NaN</td>\n",
       "      <td>Our Deeds are the Reason of this #earthquake M...</td>\n",
       "      <td>1</td>\n",
       "    </tr>\n",
       "    <tr>\n",
       "      <th>1</th>\n",
       "      <td>4</td>\n",
       "      <td>NaN</td>\n",
       "      <td>NaN</td>\n",
       "      <td>Forest fire near La Ronge Sask. Canada</td>\n",
       "      <td>1</td>\n",
       "    </tr>\n",
       "    <tr>\n",
       "      <th>2</th>\n",
       "      <td>5</td>\n",
       "      <td>NaN</td>\n",
       "      <td>NaN</td>\n",
       "      <td>All residents asked to 'shelter in place' are ...</td>\n",
       "      <td>1</td>\n",
       "    </tr>\n",
       "    <tr>\n",
       "      <th>3</th>\n",
       "      <td>6</td>\n",
       "      <td>NaN</td>\n",
       "      <td>NaN</td>\n",
       "      <td>13,000 people receive #wildfires evacuation or...</td>\n",
       "      <td>1</td>\n",
       "    </tr>\n",
       "    <tr>\n",
       "      <th>4</th>\n",
       "      <td>7</td>\n",
       "      <td>NaN</td>\n",
       "      <td>NaN</td>\n",
       "      <td>Just got sent this photo from Ruby #Alaska as ...</td>\n",
       "      <td>1</td>\n",
       "    </tr>\n",
       "    <tr>\n",
       "      <th>...</th>\n",
       "      <td>...</td>\n",
       "      <td>...</td>\n",
       "      <td>...</td>\n",
       "      <td>...</td>\n",
       "      <td>...</td>\n",
       "    </tr>\n",
       "    <tr>\n",
       "      <th>7608</th>\n",
       "      <td>10869</td>\n",
       "      <td>NaN</td>\n",
       "      <td>NaN</td>\n",
       "      <td>Two giant cranes holding a bridge collapse int...</td>\n",
       "      <td>1</td>\n",
       "    </tr>\n",
       "    <tr>\n",
       "      <th>7609</th>\n",
       "      <td>10870</td>\n",
       "      <td>NaN</td>\n",
       "      <td>NaN</td>\n",
       "      <td>@aria_ahrary @TheTawniest The out of control w...</td>\n",
       "      <td>1</td>\n",
       "    </tr>\n",
       "    <tr>\n",
       "      <th>7610</th>\n",
       "      <td>10871</td>\n",
       "      <td>NaN</td>\n",
       "      <td>NaN</td>\n",
       "      <td>M1.94 [01:04 UTC]?5km S of Volcano Hawaii. htt...</td>\n",
       "      <td>1</td>\n",
       "    </tr>\n",
       "    <tr>\n",
       "      <th>7611</th>\n",
       "      <td>10872</td>\n",
       "      <td>NaN</td>\n",
       "      <td>NaN</td>\n",
       "      <td>Police investigating after an e-bike collided ...</td>\n",
       "      <td>1</td>\n",
       "    </tr>\n",
       "    <tr>\n",
       "      <th>7612</th>\n",
       "      <td>10873</td>\n",
       "      <td>NaN</td>\n",
       "      <td>NaN</td>\n",
       "      <td>The Latest: More Homes Razed by Northern Calif...</td>\n",
       "      <td>1</td>\n",
       "    </tr>\n",
       "  </tbody>\n",
       "</table>\n",
       "<p>7613 rows × 5 columns</p>\n",
       "</div>"
      ],
      "text/plain": [
       "         id keyword location  \\\n",
       "0         1     NaN      NaN   \n",
       "1         4     NaN      NaN   \n",
       "2         5     NaN      NaN   \n",
       "3         6     NaN      NaN   \n",
       "4         7     NaN      NaN   \n",
       "...     ...     ...      ...   \n",
       "7608  10869     NaN      NaN   \n",
       "7609  10870     NaN      NaN   \n",
       "7610  10871     NaN      NaN   \n",
       "7611  10872     NaN      NaN   \n",
       "7612  10873     NaN      NaN   \n",
       "\n",
       "                                                   text  target  \n",
       "0     Our Deeds are the Reason of this #earthquake M...       1  \n",
       "1                Forest fire near La Ronge Sask. Canada       1  \n",
       "2     All residents asked to 'shelter in place' are ...       1  \n",
       "3     13,000 people receive #wildfires evacuation or...       1  \n",
       "4     Just got sent this photo from Ruby #Alaska as ...       1  \n",
       "...                                                 ...     ...  \n",
       "7608  Two giant cranes holding a bridge collapse int...       1  \n",
       "7609  @aria_ahrary @TheTawniest The out of control w...       1  \n",
       "7610  M1.94 [01:04 UTC]?5km S of Volcano Hawaii. htt...       1  \n",
       "7611  Police investigating after an e-bike collided ...       1  \n",
       "7612  The Latest: More Homes Razed by Northern Calif...       1  \n",
       "\n",
       "[7613 rows x 5 columns]"
      ]
     },
     "execution_count": 20,
     "metadata": {},
     "output_type": "execute_result"
    }
   ],
   "source": [
    "train_data = pd.read_csv(\"train.csv\")\n",
    "train_data"
   ]
  },
  {
   "cell_type": "code",
   "execution_count": 7,
   "id": "c77b8652",
   "metadata": {},
   "outputs": [
    {
     "data": {
      "text/plain": [
       "0    4342\n",
       "1    3271\n",
       "Name: target, dtype: int64"
      ]
     },
     "execution_count": 7,
     "metadata": {},
     "output_type": "execute_result"
    }
   ],
   "source": [
    "train_data.target.value_counts()"
   ]
  },
  {
   "cell_type": "code",
   "execution_count": 13,
   "id": "e421d4a9",
   "metadata": {},
   "outputs": [
    {
     "data": {
      "image/png": "[encoded data removed]",
      "text/plain": [
       "<Figure size 432x432 with 1 Axes>"
      ]
     },
     "metadata": {},
     "output_type": "display_data"
    }
   ],
   "source": [
    "import matplotlib.pyplot as plt\n",
    "import seaborn as sns\n",
    "\n",
    "train_data.groupby('target').size().plot(kind='pie', labels=['Non-disaster tweets', 'Disaster tweets'], colors=sns.color_palette('Set2'), autopct='%1.1f%%',\n",
    "                                   figsize=(6,6), explode=[0,0.06], textprops={'fontsize': 15}, startangle=90)\n",
    "\n",
    "\n",
    "plt.ylabel('')\n",
    "plt.title(\"Distribution of Tweets\", fontsize=20)\n",
    "plt.show()"
   ]
  },
  {
   "cell_type": "code",
   "execution_count": 17,
   "id": "a2147505",
   "metadata": {},
   "outputs": [
    {
     "data": {
      "text/plain": [
       "769198"
      ]
     },
     "execution_count": 17,
     "metadata": {},
     "output_type": "execute_result"
    }
   ],
   "source": [
    "length=0\n",
    "for tweet in train_data.text:\n",
    "    length+=len(tweet)\n",
    "length"
   ]
  },
  {
   "cell_type": "code",
   "execution_count": 21,
   "id": "7f4779d9",
   "metadata": {},
   "outputs": [
    {
     "name": "stderr",
     "output_type": "stream",
     "text": [
      "135it [00:00, 1341.47it/s]"
     ]
    },
    {
     "name": "stdout",
     "output_type": "stream",
     "text": [
      "Length of all words before applying stop words:  769198\n"
     ]
    },
    {
     "name": "stderr",
     "output_type": "stream",
     "text": [
      "7613it [00:08, 860.72it/s] "
     ]
    },
    {
     "name": "stdout",
     "output_type": "stream",
     "text": [
      "Length of all words after applying stop words:  665775\n"
     ]
    },
    {
     "name": "stderr",
     "output_type": "stream",
     "text": [
      "\n"
     ]
    }
   ],
   "source": [
    "from nltk.corpus import stopwords\n",
    "from nltk.tokenize import word_tokenize\n",
    "from tqdm import tqdm\n",
    "\n",
    "\n",
    "stop = stopwords.words('english') \n",
    "\n",
    "length=0\n",
    "for tweet in train_data.text:\n",
    "    length+=len(tweet)\n",
    "print(\"Length of all words before applying stop words: \", length)\n",
    "\n",
    "for item,tweet in tqdm(enumerate(train_data.text)): \n",
    "    tweet = tweet.lower()\n",
    "    tokens = word_tokenize(tweet)\n",
    "    tokens = [token for token in tokens if token not in stop]\n",
    "    train_data.text[item] =  \" \".join(word for word in tokens)\n",
    "    \n",
    "length=0\n",
    "for tweet in train_data.text:\n",
    "    length+=len(tweet)\n",
    "print(\"Length of all words after applying stop words: \", length)"
   ]
  },
  {
   "cell_type": "code",
   "execution_count": 25,
   "id": "3d004858",
   "metadata": {},
   "outputs": [
    {
     "data": {
      "text/plain": [
       "0        deeds reason # earthquake may allah forgive us\n",
       "1               forest fire near la ronge sask . canada\n",
       "2     residents asked 'shelter place ' notified offi...\n",
       "3     13,000 people receive # wildfires evacuation o...\n",
       "4     got sent photo ruby # alaska smoke # wildfires...\n",
       "5     # rockyfire update = > california hwy . 20 clo...\n",
       "6     # flood # disaster heavy rain causes flash flo...\n",
       "7                        'm top hill see fire woods ...\n",
       "8     's emergency evacuation happening building acr...\n",
       "9                     'm afraid tornado coming area ...\n",
       "10                      three people died heat wave far\n",
       "11    haha south tampa getting flooded hah- wait sec...\n",
       "12    # raining # flooding # florida # tampabay # ta...\n",
       "13                  # flood bago myanmar # arrived bago\n",
       "14      damage school bus 80 multi car crash # breaking\n",
       "15                                             's man ?\n",
       "16                                          love fruits\n",
       "17                                        summer lovely\n",
       "18                                             car fast\n",
       "19                          goooooooaaaaaal ! ! ! ! ! !\n",
       "Name: text, dtype: object"
      ]
     },
     "execution_count": 25,
     "metadata": {},
     "output_type": "execute_result"
    }
   ],
   "source": [
    "train_data.text.head(20)"
   ]
  },
  {
   "cell_type": "code",
   "execution_count": 26,
   "id": "bc6c35b7",
   "metadata": {},
   "outputs": [
    {
     "name": "stderr",
     "output_type": "stream",
     "text": [
      "126it [00:00, 1258.27it/s]"
     ]
    },
    {
     "name": "stdout",
     "output_type": "stream",
     "text": [
      "Length of all words before filtering out punctuation:  665775\n"
     ]
    },
    {
     "name": "stderr",
     "output_type": "stream",
     "text": [
      "7613it [00:05, 1371.09it/s]"
     ]
    },
    {
     "name": "stdout",
     "output_type": "stream",
     "text": [
      "Length of all words after filtering out punctuation:  587728\n"
     ]
    },
    {
     "name": "stderr",
     "output_type": "stream",
     "text": [
      "\n"
     ]
    }
   ],
   "source": [
    "import re\n",
    "\n",
    "length=0\n",
    "for tweet in train_data.text:\n",
    "    length+=len(tweet)\n",
    "print(\"Length of all words before filtering out punctuation: \", length)\n",
    "\n",
    "for item,tweet in tqdm(enumerate(train_data.text)): \n",
    "    tweet = re.sub(r\"(@\\[A-Za-z0-9]+)|([^0-9A-Za-z \\t])|(\\w+:\\/\\/\\S+)|^rt|http.+?\", \"\", tweet)\n",
    "    train_data.text[item] =  tweet\n",
    "    \n",
    "length=0\n",
    "for tweet in train_data.text:\n",
    "    length+=len(tweet)\n",
    "print(\"Length of all words after filtering out punctuation: \", length)"
   ]
  },
  {
   "cell_type": "code",
   "execution_count": 27,
   "id": "c6534f74",
   "metadata": {},
   "outputs": [
    {
     "data": {
      "text/plain": [
       "0         deeds reason  earthquake may allah forgive us\n",
       "1                forest fire near la ronge sask  canada\n",
       "2     residents asked shelter place  notified office...\n",
       "3     13000 people receive  wildfires evacuation ord...\n",
       "4     got sent photo ruby  alaska smoke  wildfires p...\n",
       "5      rockyfire update   california hwy  20 closed ...\n",
       "6      flood  disaster heavy rain causes flash flood...\n",
       "7                            m top hill see fire woods \n",
       "8     s emergency evacuation happening building acro...\n",
       "9                         m afraid tornado coming area \n",
       "10                      three people died heat wave far\n",
       "11    haha south tampa getting flooded hah wait seco...\n",
       "12     raining  flooding  florida  tampabay  tampa 1...\n",
       "13                     flood bago myanmar  arrived bago\n",
       "14       damage school bus 80 multi car crash  breaking\n",
       "15                                               s man \n",
       "16                                          love fruits\n",
       "17                                        summer lovely\n",
       "18                                             car fast\n",
       "19                                goooooooaaaaaal      \n",
       "Name: text, dtype: object"
      ]
     },
     "execution_count": 27,
     "metadata": {},
     "output_type": "execute_result"
    }
   ],
   "source": [
    "train_data.text.head(20)"
   ]
  },
  {
   "cell_type": "code",
   "execution_count": 28,
   "id": "e7ac006d",
   "metadata": {},
   "outputs": [
    {
     "name": "stderr",
     "output_type": "stream",
     "text": [
      "214it [00:00, 1064.34it/s]"
     ]
    },
    {
     "name": "stdout",
     "output_type": "stream",
     "text": [
      "Length of all words before removing numerical text and words with size less than 2:  587728\n"
     ]
    },
    {
     "name": "stderr",
     "output_type": "stream",
     "text": [
      "7613it [00:06, 1121.57it/s]"
     ]
    },
    {
     "name": "stdout",
     "output_type": "stream",
     "text": [
      "Length of all words after removing numerical text and words with size less than 2:  477777\n"
     ]
    },
    {
     "name": "stderr",
     "output_type": "stream",
     "text": [
      "\n"
     ]
    }
   ],
   "source": [
    "length=0\n",
    "for tweet in train_data.text:\n",
    "    length+=len(tweet)\n",
    "print(\"Length of all words before removing numerical text and words with size less than 2: \", length)\n",
    "\n",
    "for item,tweet in tqdm(enumerate(train_data.text)): \n",
    "    tokens = word_tokenize(tweet)\n",
    "    tokens = [token for token in tokens if token.isalpha() and len(token)>2]\n",
    "    train_data.text[item] =  \" \".join(word for word in tokens)\n",
    "    \n",
    "length=0\n",
    "for tweet in train_data.text:\n",
    "    length+=len(tweet)\n",
    "print(\"Length of all words after removing numerical text and words with size less than 2: \", length)"
   ]
  },
  {
   "cell_type": "code",
   "execution_count": 29,
   "id": "60f33948",
   "metadata": {},
   "outputs": [
    {
     "data": {
      "text/plain": [
       "0             deeds reason earthquake may allah forgive\n",
       "1                    forest fire near ronge sask canada\n",
       "2     residents asked shelter place notified officer...\n",
       "3     people receive wildfires evacuation orders cal...\n",
       "4     got sent photo ruby alaska smoke wildfires pou...\n",
       "5     rockyfire update california hwy closed directi...\n",
       "6     flood disaster heavy rain causes flash floodin...\n",
       "7                               top hill see fire woods\n",
       "8     emergency evacuation happening building across...\n",
       "9                            afraid tornado coming area\n",
       "10                      three people died heat wave far\n",
       "11    haha south tampa getting flooded hah wait seco...\n",
       "12    raining flooding florida tampabay tampa days l...\n",
       "13                      flood bago myanmar arrived bago\n",
       "14           damage school bus multi car crash breaking\n",
       "15                                                  man\n",
       "16                                          love fruits\n",
       "17                                        summer lovely\n",
       "18                                             car fast\n",
       "19                                      goooooooaaaaaal\n",
       "Name: text, dtype: object"
      ]
     },
     "execution_count": 29,
     "metadata": {},
     "output_type": "execute_result"
    }
   ],
   "source": [
    "train_data.text.head(20)"
   ]
  },
  {
   "cell_type": "code",
   "execution_count": 30,
   "id": "ea14af2e",
   "metadata": {},
   "outputs": [
    {
     "name": "stderr",
     "output_type": "stream",
     "text": [
      "\r",
      "0it [00:00, ?it/s]"
     ]
    },
    {
     "name": "stdout",
     "output_type": "stream",
     "text": [
      "Length of all words before applying lematization:  477777\n"
     ]
    },
    {
     "name": "stderr",
     "output_type": "stream",
     "text": [
      "7613it [00:09, 767.90it/s] "
     ]
    },
    {
     "name": "stdout",
     "output_type": "stream",
     "text": [
      "Length of all words after applying lemmatization:  458556\n"
     ]
    },
    {
     "name": "stderr",
     "output_type": "stream",
     "text": [
      "\n"
     ]
    }
   ],
   "source": [
    "from nltk.stem import WordNetLemmatizer\n",
    "\n",
    "lemmatizer = WordNetLemmatizer()\n",
    "\n",
    "length=0\n",
    "for tweet in train_data.text:\n",
    "    length+=len(tweet)\n",
    "print(\"Length of all words before applying lematization: \", length)\n",
    "\n",
    "for item,tweet in tqdm(enumerate(train_data.text)): \n",
    "    tokens = word_tokenize(tweet)\n",
    "    tokens = [lemmatizer.lemmatize(token, pos='v') for token in tokens]\n",
    "    train_data.text[item] =  \" \".join(word for word in tokens)\n",
    "    \n",
    "length=0\n",
    "for tweet in train_data.text:\n",
    "    length+=len(tweet)\n",
    "print(\"Length of all words after applying lemmatization: \", length)"
   ]
  },
  {
   "cell_type": "code",
   "execution_count": 33,
   "id": "03326815",
   "metadata": {},
   "outputs": [
    {
     "data": {
      "text/plain": [
       "0             deeds reason earthquake may allah forgive\n",
       "1                    forest fire near ronge sask canada\n",
       "2     residents ask shelter place notify officer eva...\n",
       "3     people receive wildfires evacuation order cali...\n",
       "4     get send photo ruby alaska smoke wildfires pou...\n",
       "5     rockyfire update california hwy close directio...\n",
       "6     flood disaster heavy rain cause flash flood st...\n",
       "7                               top hill see fire woods\n",
       "8       emergency evacuation happen build across street\n",
       "9                              afraid tornado come area\n",
       "10                       three people die heat wave far\n",
       "11    haha south tampa get flood hah wait second liv...\n",
       "12    rain flood florida tampabay tampa days lose count\n",
       "13                       flood bago myanmar arrive bago\n",
       "14              damage school bus multi car crash break\n",
       "15                                                  man\n",
       "16                                           love fruit\n",
       "17                                        summer lovely\n",
       "18                                             car fast\n",
       "19                                      goooooooaaaaaal\n",
       "Name: text, dtype: object"
      ]
     },
     "execution_count": 33,
     "metadata": {},
     "output_type": "execute_result"
    }
   ],
   "source": [
    "train_data.text.head(20)"
   ]
  },
  {
   "cell_type": "code",
   "execution_count": 36,
   "id": "b5cdbf1d",
   "metadata": {},
   "outputs": [
    {
     "data": {
      "image/png": "[encoded data removed]",
      "text/plain": [
       "<Figure size 1080x864 with 1 Axes>"
      ]
     },
     "metadata": {},
     "output_type": "display_data"
    },
    {
     "data": {
      "text/plain": [
       "<AxesSubplot: title={'center': 'Frequency Distribution of Top 30 tokens'}>"
      ]
     },
     "execution_count": 36,
     "metadata": {},
     "output_type": "execute_result"
    }
   ],
   "source": [
    "from sklearn.feature_extraction.text import CountVectorizer\n",
    "from yellowbrick.text.freqdist import FreqDistVisualizer\n",
    "\n",
    "vect = CountVectorizer(stop_words='english')\n",
    "X = vect.fit_transform(train_data.text)\n",
    "\n",
    "# Get all features (tokens)\n",
    "features = vect.get_feature_names_out()\n",
    "\n",
    "# Use yellowbrick package for visualization of top 30 tokens\n",
    "fig, ax = plt.subplots(figsize=(15,12))\n",
    "visualizer = FreqDistVisualizer(features=features, n=30)\n",
    "visualizer.fit(X)\n",
    "visualizer.poof()"
   ]
  },
  {
   "cell_type": "code",
   "execution_count": null,
   "id": "25e5a705",
   "metadata": {},
   "outputs": [],
   "source": []
  }
 ],
 "metadata": {
  "kernelspec": {
   "display_name": "Python 3",
   "language": "python",
   "name": "python3"
  },
  "language_info": {
   "codemirror_mode": {
    "name": "ipython",
    "version": 3
   },
   "file_extension": ".py",
   "mimetype": "text/x-python",
   "name": "python",
   "nbconvert_exporter": "python",
   "pygments_lexer": "ipython3",
   "version": "3.8.8"
  }
 },
 "nbformat": 4,
 "nbformat_minor": 5
}

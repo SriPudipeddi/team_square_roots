{
 "cells": [
  {
   "cell_type": "code",
   "execution_count": 11,
   "metadata": {},
   "outputs": [
    {
     "name": "stderr",
     "output_type": "stream",
     "text": [
      "[nltk_data] Downloading package punkt to\n",
      "[nltk_data]     C:\\Users\\sridevi\\AppData\\Roaming\\nltk_data...\n",
      "[nltk_data]   Package punkt is already up-to-date!\n",
      "[nltk_data] Downloading package wordnet to\n",
      "[nltk_data]     C:\\Users\\sridevi\\AppData\\Roaming\\nltk_data...\n",
      "[nltk_data]   Package wordnet is already up-to-date!\n",
      "[nltk_data] Downloading package stopwords to\n",
      "[nltk_data]     C:\\Users\\sridevi\\AppData\\Roaming\\nltk_data...\n",
      "[nltk_data]   Package stopwords is already up-to-date!\n"
     ]
    },
    {
     "data": {
      "text/html": [
       "        <script type=\"text/javascript\">\n",
       "        window.PlotlyConfig = {MathJaxConfig: 'local'};\n",
       "        if (window.MathJax) {MathJax.Hub.Config({SVG: {font: \"STIX-Web\"}});}\n",
       "        if (typeof require !== 'undefined') {\n",
       "        require.undef(\"plotly\");\n",
       "        requirejs.config({\n",
       "            paths: {\n",
       "                'plotly': ['https://cdn.plot.ly/plotly-latest.min']\n",
       "            }\n",
       "        });\n",
       "        require(['plotly'], function(Plotly) {\n",
       "            window._Plotly = Plotly;\n",
       "        });\n",
       "        }\n",
       "        </script>\n",
       "        "
      ]
     },
     "metadata": {},
     "output_type": "display_data"
    }
   ],
   "source": [
    "#Importing all the neccessary libraries\n",
    "import pandas as pd\n",
    "import numpy as np #for linear algebra\n",
    "\n",
    "#Libraries for visualisation\n",
    "import matplotlib.pyplot as plt\n",
    "import seaborn as sns\n",
    "import plotly.express as px\n",
    "from plotly.subplots import make_subplots\n",
    "import plotly.graph_objects as go\n",
    "\n",
    "#Libraries for formattting and handling text \n",
    "import string\n",
    "import re\n",
    "\n",
    "#Library for nltk\n",
    "import nltk \n",
    "import nltk.corpus\n",
    "from nltk.corpus import stopwords\n",
    "nltk.download('punkt')\n",
    "nltk.download('wordnet')\n",
    "nltk.download('stopwords')\n",
    "from nltk.stem import WordNetLemmatizer\n",
    "from wordcloud import WordCloud\n",
    "\n",
    "from collections import defaultdict\n",
    "from collections import  Counter\n",
    "stop=set(stopwords.words('english'))\n",
    "\n",
    "#Library for NN\n",
    "from keras.models import Sequential\n",
    "from keras.layers import Embedding, LSTM, Dense, SpatialDropout1D\n",
    "from keras.initializers import Constant\n",
    "\n",
    "\n",
    "import sklearn\n",
    "#Library for Splitting Dataset\n",
    "from sklearn.model_selection import train_test_split\n",
    "#Library for TFIDF\n",
    "from sklearn.feature_extraction.text import TfidfVectorizer, CountVectorizer, HashingVectorizer\n",
    "from sklearn.ensemble import GradientBoostingClassifier\n",
    "from sklearn.tree import DecisionTreeClassifier\n",
    "from sklearn import model_selection, naive_bayes\n",
    "#Library for evaluation\n",
    "from sklearn.metrics import accuracy_score, precision_score, recall_score, f1_score,classification_report\n",
    "\n",
    "import warnings\n",
    "warnings.filterwarnings(\"ignore\")\n",
    "\n",
    "import plotly\n",
    "plotly.offline.init_notebook_mode (connected = True)\n",
    "\n",
    "import neattext as nt"
   ]
  },
  {
   "cell_type": "code",
   "execution_count": 12,
   "metadata": {},
   "outputs": [
    {
     "name": "stdout",
     "output_type": "stream",
     "text": [
      "<class 'pandas.core.series.Series'>\n"
     ]
    }
   ],
   "source": [
    "# oly considering train.csv\n",
    "\n",
    "df = pd.read_csv(\"train.csv\")\n",
    "df.head(5)\n",
    "x = df[\"text\"]\n",
    "y = df[\"target\"]\n",
    "print(type(x))"
   ]
  },
  {
   "cell_type": "code",
   "execution_count": 13,
   "metadata": {},
   "outputs": [
    {
     "name": "stdout",
     "output_type": "stream",
     "text": [
      "(6090,) (1523,)\n"
     ]
    }
   ],
   "source": [
    "from sklearn.model_selection import train_test_split\n",
    "x_train, x_val, y_train, y_val = train_test_split(x, y, test_size=0.2, random_state=42)\n",
    "print(x_train.shape, x_val.shape)"
   ]
  },
  {
   "cell_type": "code",
   "execution_count": 14,
   "metadata": {},
   "outputs": [
    {
     "name": "stdout",
     "output_type": "stream",
     "text": [
      "4996    courageous honest analysis need atomic bomb ja...\n",
      "3263    zachzaidman shame golf cart engulfed flame boy...\n",
      "Name: text, dtype: object\n",
      "2644                weapon cause unimaginable destruction\n",
      "2227    famping thing gishwhes soaked deluge going tam...\n",
      "Name: text, dtype: object\n"
     ]
    }
   ],
   "source": [
    "def clean_data(text):\n",
    "    clean_pipeline = nt.TextPipeline(steps=[nt.normalize, nt.remove_numbers, nt.fix_contractions, nt.remove_stopwords, nt.remove_emails, nt.remove_emojis, nt.remove_html_tags, nt.remove_urls, nt.remove_special_characters])\n",
    "    text = clean_pipeline.transform(text)\n",
    " \n",
    "    lemmatizer = WordNetLemmatizer()\n",
    "    text = \" \".join([lemmatizer.lemmatize(word) for word in text.split()])\n",
    "    text = \" \".join([t for t in text.split() if len(t) > 3 ])\n",
    "    return text\n",
    "\n",
    "x_train_clean= x_train.apply(clean_data)\n",
    "print(x_train_clean.head(2))\n",
    "\n",
    "x_val_clean = x_val.apply(clean_data)\n",
    "print(x_val_clean.head(2))"
   ]
  },
  {
   "cell_type": "code",
   "execution_count": 15,
   "metadata": {},
   "outputs": [],
   "source": [
    "tfidf_vect = TfidfVectorizer(max_features=5000)\n",
    "tfidf_vect.fit(x_train)\n",
    "\n",
    "x_train_tfidf = tfidf_vect.transform(x_train)\n",
    "x_val_tfidf = tfidf_vect.transform(x_val)"
   ]
  },
  {
   "cell_type": "code",
   "execution_count": 16,
   "metadata": {},
   "outputs": [],
   "source": [
    "count_vect = CountVectorizer()\n",
    "count_vect.fit(x_train)\n",
    "\n",
    "x_train_count_vect = count_vect.transform(x_train)\n",
    "x_val_count_vect = count_vect.transform(x_val)"
   ]
  },
  {
   "cell_type": "code",
   "execution_count": 17,
   "metadata": {},
   "outputs": [],
   "source": [
    "def model_exec(x_train, y_train, x_val, y_val, models=None):\n",
    "    if models is None:\n",
    "        models = [\n",
    "              DecisionTreeClassifier(),\n",
    "              GradientBoostingClassifier(),\n",
    "              sklearn.naive_bayes.MultinomialNB(), \n",
    "              sklearn.linear_model.LogisticRegression(),\n",
    "              sklearn.svm.SVC(),\n",
    "              sklearn.svm.SVC(C=10),\n",
    "              sklearn.svm.SVC(C=0.5),\n",
    "            ]\n",
    "    else:\n",
    "        if not isinstance(models, list):\n",
    "            models = list(models)\n",
    "            \n",
    "    accuracy_models = []\n",
    "    for model in models:\n",
    "        model.fit(x_train, y_train)\n",
    "        predictions = model.predict(x_val)\n",
    "        print(\"Accuracy Score -> \", model , accuracy_score(predictions, y_val)*100)\n",
    "        accuracy_models.append((accuracy_score(predictions, y_val)*100, model))\n",
    "        \n",
    "    print(accuracy_models)\n",
    "    return max(accuracy_models)"
   ]
  },
  {
   "cell_type": "code",
   "execution_count": 18,
   "metadata": {},
   "outputs": [
    {
     "name": "stdout",
     "output_type": "stream",
     "text": [
      "Accuracy Score ->  DecisionTreeClassifier() 71.24097176625082\n",
      "Accuracy Score ->  GradientBoostingClassifier() 76.23112278397899\n",
      "Accuracy Score ->  MultinomialNB() 80.76165462902168\n",
      "Accuracy Score ->  LogisticRegression() 79.97373604727511\n",
      "Accuracy Score ->  SVC() 81.22127380170716\n",
      "Accuracy Score ->  SVC(C=10) 79.97373604727511\n",
      "Accuracy Score ->  SVC(C=0.5) 80.17071569271175\n",
      "[(71.24097176625082, DecisionTreeClassifier()), (76.23112278397899, GradientBoostingClassifier()), (80.76165462902168, MultinomialNB()), (79.97373604727511, LogisticRegression()), (81.22127380170716, SVC()), (79.97373604727511, SVC(C=10)), (80.17071569271175, SVC(C=0.5))]\n",
      "SVC() 81.22127380170716\n"
     ]
    }
   ],
   "source": [
    "# using tfidf\n",
    "max_accuracy, best_model = model_exec(x_train_tfidf, y_train, \n",
    "                                      x_val_tfidf, y_val)\n",
    "print(best_model, max_accuracy)"
   ]
  },
  {
   "cell_type": "code",
   "execution_count": 9,
   "metadata": {},
   "outputs": [
    {
     "name": "stdout",
     "output_type": "stream",
     "text": [
      "Accuracy Score ->  DecisionTreeClassifier() 72.94812869336835\n",
      "Accuracy Score ->  GradientBoostingClassifier() 75.90282337491793\n",
      "Accuracy Score ->  MultinomialNB() 80.10505581089954\n",
      "Accuracy Score ->  LogisticRegression() 80.9586342744583\n",
      "Accuracy Score ->  SVC() 81.08995403808274\n",
      "Accuracy Score ->  SVC(C=10) 80.23637557452396\n",
      "Accuracy Score ->  SVC(C=0.5) 78.52921864740644\n",
      "[(72.94812869336835, DecisionTreeClassifier()), (75.90282337491793, GradientBoostingClassifier()), (80.10505581089954, MultinomialNB()), (80.9586342744583, LogisticRegression()), (81.08995403808274, SVC()), (80.23637557452396, SVC(C=10)), (78.52921864740644, SVC(C=0.5))]\n",
      "SVC() 81.08995403808274\n"
     ]
    }
   ],
   "source": [
    "# using count_vectorizer\n",
    "max_accuracy, best_model = model_exec(x_train_count_vect, y_train, \n",
    "                                      x_val_count_vect, y_val)\n",
    "print(best_model, max_accuracy)"
   ]
  },
  {
   "cell_type": "code",
   "execution_count": null,
   "metadata": {},
   "outputs": [],
   "source": []
  }
 ],
 "metadata": {
  "kernelspec": {
   "display_name": "Python 3",
   "language": "python",
   "name": "python3"
  },
  "language_info": {
   "codemirror_mode": {
    "name": "ipython",
    "version": 3
   },
   "file_extension": ".py",
   "mimetype": "text/x-python",
   "name": "python",
   "nbconvert_exporter": "python",
   "pygments_lexer": "ipython3",
   "version": "3.7.4"
  }
 },
 "nbformat": 4,
 "nbformat_minor": 2
}
